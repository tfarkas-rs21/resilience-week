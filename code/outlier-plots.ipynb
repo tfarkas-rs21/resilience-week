{
 "cells": [
  {
   "cell_type": "code",
   "execution_count": 1,
   "id": "french-template",
   "metadata": {},
   "outputs": [],
   "source": [
    "import matplotlib.pyplot as plt\n",
    "import numpy as np\n",
    "import pandas as pd"
   ]
  },
  {
   "cell_type": "code",
   "execution_count": 21,
   "id": "synthetic-peter",
   "metadata": {},
   "outputs": [],
   "source": [
    "#%% import data\n",
    "df = pd.read_csv('../data/raleigh-durham_tracts_469_analysis.csv').set_index(['state', 'county', 'tract'])\n",
    "\n",
    "#%% remove outliers\n",
    "df = df.loc[(df.dist_tmd_avg < 50) & (df.abs_dist_diff_avg < 80) ,:]\n",
    "\n",
    "#%% get subsets for analysis\n",
    "df_census = df.loc[:, 'DP02_0002PE':'DP05_0089PE']\n",
    "df_mob = df.loc[:, 'visits_pre_avg':'dist_avg_base']"
   ]
  },
  {
   "cell_type": "code",
   "execution_count": 23,
   "id": "constitutional-colorado",
   "metadata": {},
   "outputs": [
    {
     "data": {
      "text/plain": [
       "(array([ 43., 144., 138.,  85.,  29.,  14.,   5.,   1.,   0.,   1.]),\n",
       " array([ 6.68360769, 11.35411813, 16.02462858, 20.69513902, 25.36564946,\n",
       "        30.03615991, 34.70667035, 39.3771808 , 44.04769124, 48.71820169,\n",
       "        53.38871213]),\n",
       " <BarContainer object of 10 artists>)"
      ]
     },
     "execution_count": 23,
     "metadata": {},
     "output_type": "execute_result"
    },
    {
     "data": {
      "image/png": "[encoded data removed]",
      "text/plain": [
       "<Figure size 432x288 with 3 Axes>"
      ]
     },
     "metadata": {
      "needs_background": "light"
     },
     "output_type": "display_data"
    }
   ],
   "source": [
    "fig, ax  = plt.subplots(nrows = 3)\n",
    "ax[0].hist(df_mob.dist_tmd_avg)\n",
    "ax[1].hist(df_mob.abs_dist_diff_avg)\n",
    "ax[2].hist(df_mob.dist_avg_base)"
   ]
  },
  {
   "cell_type": "code",
   "execution_count": null,
   "id": "opposed-wallet",
   "metadata": {},
   "outputs": [],
   "source": []
  }
 ],
 "metadata": {
  "kernelspec": {
   "display_name": "Python 3",
   "language": "python",
   "name": "python3"
  },
  "language_info": {
   "codemirror_mode": {
    "name": "ipython",
    "version": 3
   },
   "file_extension": ".py",
   "mimetype": "text/x-python",
   "name": "python",
   "nbconvert_exporter": "python",
   "pygments_lexer": "ipython3",
   "version": "3.9.10"
  }
 },
 "nbformat": 4,
 "nbformat_minor": 5
}
